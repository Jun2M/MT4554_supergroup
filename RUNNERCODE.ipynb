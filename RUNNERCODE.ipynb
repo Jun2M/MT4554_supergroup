{
 "cells": [
  {
   "cell_type": "code",
   "execution_count": null,
   "metadata": {},
   "outputs": [],
   "source": [
    "def forgetfulsoftMAJ(nthround,P1State,P2State):\n",
    "    flip = P2State[:round][::-1]\n",
    "\n",
    "    def forgetfulness(round):\n",
    "        if round < 9:\n",
    "            return 1\n",
    "        else:\n",
    "            return 0.5**(round-8) + 1/2\n",
    "    \n",
    "    nd = sum([forgetfulness(i) for i, x in enumerate(flip) if x == \"d\"])\n",
    "    nc = sum([forgetfulness(i) for i, x in enumerate(flip) if x == \"c\"])\n",
    "\n",
    "    P1State[nthround] = \"c\" if 2*nd <= (nd + nc) else \"d\"\n",
    "    return P1State\n",
    "\n",
    "def ForgivingSoftMAJ(nthround,P1State,P2State):\n",
    "    if nthround == 27:\n",
    "        nc2 = 2*P2State.count(\"c\")\n",
    "        if nc2 >= P1State.count(\"c\") and nc2 >= nthround - 1:\n",
    "            P1State[nthround] = \"c\"\n",
    "            return P1State\n",
    "\n",
    "    P1State[nthround] = forgetfulsoftMAJ(nthround,P1State,P2State)[nthround]\n",
    "    return P1State\n",
    "\n",
    "def ScoreRunnerFinal(nthround,P1State,P2State):\n",
    "    PaceMakerMoves = ['d', 'd', 'c', 'c', 'c'] + ['c']*(200 - 5)\n",
    "    RunnerMoves = ['c', 'd', 'd', 'd', 'c', 'c', 'd', 'c'] + ['d']*(200 - 8)\n",
    "\n",
    "    # Is the opponent a ScorePaceMaker?\n",
    "    if P2State[:max(5, nthround)] == PaceMakerMoves[:max(5, nthround)]:\n",
    "        P1State[nthround] = RunnerMoves[nthround]\n",
    "        return P1State\n",
    "\n",
    "    if 180 - nthround < 1:\n",
    "        P1State[nthround] = \"d\"\n",
    "        return P1State\n",
    "\n",
    "    # Otherwise, play RATIO\n",
    "    P1State[nthround] = ForgivingSoftMAJ(nthround,P1State,P2State)[nthround]\n",
    "    return P1State"
   ]
  }
 ],
 "metadata": {
  "language_info": {
   "name": "python"
  }
 },
 "nbformat": 4,
 "nbformat_minor": 2
}
