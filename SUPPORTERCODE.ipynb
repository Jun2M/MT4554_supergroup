{
 "cells": [
  {
   "cell_type": "code",
   "execution_count": null,
   "metadata": {},
   "outputs": [],
   "source": [
    "def ScorePaceMakerFinal(nthround,P1State,P2State):\n",
    "    PaceMakerMoves = ['d', 'd', 'c', 'c', 'c'] + ['c']*(200 - 5)\n",
    "    RunnerMoves = ['c', 'd', 'd', 'd', 'c', 'c', 'd', 'c'] + ['d']*(200 - 8)\n",
    "\n",
    "    # Is the opponent a ScoreRunner?\n",
    "    if P2State[:nthround] == RunnerMoves[:nthround]:\n",
    "        P1State[nthround] = PaceMakerMoves[nthround]\n",
    "        return P1State\n",
    "    \n",
    "    # Otherwise, play ALLD\n",
    "    P1State[nthround]=\"d\"\n",
    "    return P1State"
   ]
  }
 ],
 "metadata": {
  "language_info": {
   "name": "python"
  }
 },
 "nbformat": 4,
 "nbformat_minor": 2
}
